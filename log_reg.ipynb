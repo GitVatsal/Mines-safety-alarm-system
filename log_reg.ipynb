{
 "cells": [
  {
   "cell_type": "code",
   "execution_count": 240,
   "metadata": {
    "collapsed": false
   },
   "outputs": [],
   "source": [
    "import numpy as np"
   ]
  },
  {
   "cell_type": "code",
   "execution_count": 241,
   "metadata": {
    "collapsed": false
   },
   "outputs": [],
   "source": [
    "import matplotlib as mp"
   ]
  },
  {
   "cell_type": "code",
   "execution_count": 242,
   "metadata": {
    "collapsed": true
   },
   "outputs": [],
   "source": [
    "data=np.genfromtxt('minescombineddata.csv', delimiter=',')"
   ]
  },
  {
   "cell_type": "code",
   "execution_count": 243,
   "metadata": {
    "collapsed": false
   },
   "outputs": [],
   "source": [
    "data[0,0]=1"
   ]
  },
  {
   "cell_type": "code",
   "execution_count": 244,
   "metadata": {
    "collapsed": false
   },
   "outputs": [
    {
     "data": {
      "text/plain": [
       "array([1., 1., 1., 1., 0., 1., 0., 0., 1., 1., 0., 0., 0., 0., 0., 0., 0.,\n",
       "       0., 0., 0., 1., 1., 0., 0., 0., 0., 0., 0., 0., 0., 0., 0., 0., 0.,\n",
       "       0., 0., 0., 0., 0., 0., 0., 0., 0., 0., 1., 1., 1., 1., 1., 0., 0.,\n",
       "       0., 0., 0., 0., 0., 1., 1., 1., 0., 0., 0., 0., 0., 0., 0., 0., 0.,\n",
       "       0., 1., 0., 0., 0., 0., 1., 1., 0., 1., 0., 0., 0., 1., 0., 0., 0.,\n",
       "       1., 0., 0., 1., 1., 1., 0., 0., 0., 0., 0., 0., 0., 0., 0., 0., 1.,\n",
       "       1., 1., 1., 0., 1., 0., 0., 0., 0., 0., 0., 0., 0., 0., 0., 0., 0.,\n",
       "       0., 0., 0., 1., 1., 1., 1., 1., 0., 0., 0., 0., 0., 0., 0., 1., 1.,\n",
       "       0., 0., 0., 0., 0., 0., 0., 0., 0., 0., 0., 0., 0., 0., 1., 1., 1.,\n",
       "       0., 0., 0., 0., 0., 0., 0., 0., 0., 1., 1., 1., 1., 0., 0., 0., 0.,\n",
       "       0., 1., 1., 0., 0., 0., 1., 1., 1., 1., 0., 0., 0., 0., 0., 0., 1.,\n",
       "       0., 0., 0., 0., 0., 1., 1., 0., 0., 0., 1., 0., 0., 0., 0., 0., 0.,\n",
       "       0., 1., 1., 0., 0., 0., 0., 0., 0., 1., 1., 0., 0., 0., 0., 0., 0.,\n",
       "       0., 0., 0., 0., 0., 1., 1.])"
      ]
     },
     "execution_count": 244,
     "metadata": {},
     "output_type": "execute_result"
    }
   ],
   "source": [
    "data[:,19]"
   ]
  },
  {
   "cell_type": "code",
   "execution_count": 245,
   "metadata": {
    "collapsed": false
   },
   "outputs": [],
   "source": [
    "labelY=data[:,19]"
   ]
  },
  {
   "cell_type": "code",
   "execution_count": 246,
   "metadata": {
    "collapsed": false
   },
   "outputs": [],
   "source": [
    "trainX=data[:,0:19]"
   ]
  },
  {
   "cell_type": "code",
   "execution_count": 247,
   "metadata": {
    "collapsed": false
   },
   "outputs": [],
   "source": [
    "s=trainX.shape"
   ]
  },
  {
   "cell_type": "code",
   "execution_count": 248,
   "metadata": {
    "collapsed": false
   },
   "outputs": [
    {
     "data": {
      "text/plain": [
       "(228,)"
      ]
     },
     "execution_count": 248,
     "metadata": {},
     "output_type": "execute_result"
    }
   ],
   "source": [
    "labelY.shape"
   ]
  },
  {
   "cell_type": "code",
   "execution_count": 249,
   "metadata": {
    "collapsed": false
   },
   "outputs": [
    {
     "name": "stdout",
     "output_type": "stream",
     "text": [
      "[0.96270779 0.40213369 0.81250491 0.11639559 0.58592121 0.74439818\n",
      " 0.68123582 0.16538788 0.61261492 0.26596662 0.90694549 0.6179941\n",
      " 0.01349125 0.59966246 0.91091237 0.19122044 0.36341566 0.71879085\n",
      " 0.78548751]\n"
     ]
    }
   ],
   "source": [
    "theta= np.random.rand(19) ; print(theta) "
   ]
  },
  {
   "cell_type": "code",
   "execution_count": 250,
   "metadata": {
    "collapsed": false
   },
   "outputs": [],
   "source": [
    "def newhlog(theta,trainX):\n",
    "    \n",
    "    h=theta*trainX\n",
    "\n",
    "    hyp=np.empty(s[0])\n",
    "    for i in range (0, s[0]-1):\n",
    "        hyp[i]=np.sum(h[i,:])\n",
    " \n",
    "    hlog=(1/(1+np.exp(-hyp)))\n",
    "    return hlog"
   ]
  },
  {
   "cell_type": "code",
   "execution_count": 251,
   "metadata": {
    "collapsed": false
   },
   "outputs": [],
   "source": [
    "hlog=newhlog(theta,trainX)"
   ]
  },
  {
   "cell_type": "code",
   "execution_count": 252,
   "metadata": {
    "collapsed": true
   },
   "outputs": [],
   "source": [
    "m=s[0] ; lmda=.5  ;"
   ]
  },
  {
   "cell_type": "code",
   "execution_count": 253,
   "metadata": {
    "collapsed": false
   },
   "outputs": [
    {
     "data": {
      "text/plain": [
       "array([1., 1., 1., 1., 0., 1., 0., 0., 1., 1., 0., 0., 0., 0., 0., 0., 0.,\n",
       "       0., 0., 0., 1., 1., 0., 0., 0., 0., 0., 0., 0., 0., 0., 0., 0., 0.,\n",
       "       0., 0., 0., 0., 0., 0., 0., 0., 0., 0., 1., 1., 1., 1., 1., 0., 0.,\n",
       "       0., 0., 0., 0., 0., 1., 1., 1., 0., 0., 0., 0., 0., 0., 0., 0., 0.,\n",
       "       0., 1., 0., 0., 0., 0., 1., 1., 0., 1., 0., 0., 0., 1., 0., 0., 0.,\n",
       "       1., 0., 0., 1., 1., 1., 0., 0., 0., 0., 0., 0., 0., 0., 0., 0., 1.,\n",
       "       1., 1., 1., 0., 1., 0., 0., 0., 0., 0., 0., 0., 0., 0., 0., 0., 0.,\n",
       "       0., 0., 0., 1., 1., 1., 1., 1., 0., 0., 0., 0., 0., 0., 0., 1., 1.,\n",
       "       0., 0., 0., 0., 0., 0., 0., 0., 0., 0., 0., 0., 0., 0., 1., 1., 1.,\n",
       "       0., 0., 0., 0., 0., 0., 0., 0., 0., 1., 1., 1., 1., 0., 0., 0., 0.,\n",
       "       0., 1., 1., 0., 0., 0., 1., 1., 1., 1., 0., 0., 0., 0., 0., 0., 1.,\n",
       "       0., 0., 0., 0., 0., 1., 1., 0., 0., 0., 1., 0., 0., 0., 0., 0., 0.,\n",
       "       0., 1., 1., 0., 0., 0., 0., 0., 0., 1., 1., 0., 0., 0., 0., 0., 0.,\n",
       "       0., 0., 0., 0., 0., 1., 1.])"
      ]
     },
     "execution_count": 253,
     "metadata": {},
     "output_type": "execute_result"
    }
   ],
   "source": [
    "labelY"
   ]
  },
  {
   "cell_type": "code",
   "execution_count": 254,
   "metadata": {
    "collapsed": true
   },
   "outputs": [],
   "source": [
    "def cost(hlog_i, label_i) :\n",
    "    \n",
    "    if label_i==1:\n",
    "        return -1*np.log(hlog_i)\n",
    "    else:\n",
    "        return -1*np.log(1-hlog_i)"
   ]
  },
  {
   "cell_type": "code",
   "execution_count": 255,
   "metadata": {
    "collapsed": true
   },
   "outputs": [],
   "source": [
    "def J_(theta,hlog, labelY):            #final cost per iteration\n",
    "    J=0\n",
    "    for i in range(0,m): \n",
    "        J=J+(cost(hlog[i], labelY[i]))/m\n",
    "                                    \n",
    "    temp=0\n",
    "    for j in range(1, 19):\n",
    "        temp=temp+(theta[j]*theta[j])                         \n",
    "    reg_term=(lmda/(2*m))*temp;\n",
    "    J=J+reg_term;   \n",
    "    return J\n"
   ]
  },
  {
   "cell_type": "code",
   "execution_count": 256,
   "metadata": {
    "collapsed": true
   },
   "outputs": [],
   "source": [
    "def dfn_J_j(theta,j,hlog, labelY):             #final differential value of cost wrt a particular weight per iteration\n",
    "    dfn_J=0 \n",
    "    for i in range(1, m):\n",
    "        dfn_J=dfn_J+(hlog[i]-labelY[i])*trainX[i,j] \n",
    "    if(j!=0):\n",
    "        dfn_J=(dfn_J + lmda*theta[j])/m\n",
    "    else :\n",
    "        dfn_J=dfn_J/m\n",
    "    return dfn_J"
   ]
  },
  {
   "cell_type": "code",
   "execution_count": 257,
   "metadata": {
    "collapsed": false
   },
   "outputs": [],
   "source": [
    "def grad_desc(theta,hlog, labelY):          #gradient descent gives new values theta vector\n",
    "    for j in range(0, 19):\n",
    "        theta[j]=theta[j]-((.000001/m)*dfn_J_j(theta,j,hlog,labelY))   \n",
    "    hlog=newhlog(theta,trainX)"
   ]
  },
  {
   "cell_type": "code",
   "execution_count": 258,
   "metadata": {
    "collapsed": true
   },
   "outputs": [],
   "source": [
    "def train_model(theta,hlog, labelY):\n",
    "    count=0\n",
    "    while(count<1000):        \n",
    "        print( \"Iteration {}, Cost = {}\".format(count ,J_(theta,hlog, labelY)) )\n",
    "        grad_desc(theta,hlog, labelY)\n",
    "        count+=1"
   ]
  },
  {
   "cell_type": "code",
   "execution_count": 259,
   "metadata": {
    "collapsed": false
   },
   "outputs": [
    {
     "name": "stdout",
     "output_type": "stream",
     "text": [
      "Press y to train:\n",
      "y\n"
     ]
    },
    {
     "name": "stderr",
     "output_type": "stream",
     "text": [
      "C:\\ProgramData\\Anaconda3\\lib\\site-packages\\ipykernel\\__main__.py:6: RuntimeWarning: divide by zero encountered in log\n"
     ]
    },
    {
     "name": "stdout",
     "output_type": "stream",
     "text": [
      "Iteration 0, Cost = inf\n",
      "Iteration 1, Cost = inf\n",
      "Iteration 2, Cost = inf\n",
      "Iteration 3, Cost = inf\n",
      "Iteration 4, Cost = inf\n",
      "Iteration 5, Cost = inf\n",
      "Iteration 6, Cost = inf\n",
      "Iteration 7, Cost = inf\n",
      "Iteration 8, Cost = inf\n",
      "Iteration 9, Cost = inf\n",
      "Iteration 10, Cost = inf\n",
      "Iteration 11, Cost = inf\n",
      "Iteration 12, Cost = inf\n",
      "Iteration 13, Cost = inf\n",
      "Iteration 14, Cost = inf\n",
      "Iteration 15, Cost = inf\n",
      "Iteration 16, Cost = inf\n",
      "Iteration 17, Cost = inf\n",
      "Iteration 18, Cost = inf\n",
      "Iteration 19, Cost = inf\n",
      "Iteration 20, Cost = inf\n",
      "Iteration 21, Cost = inf\n",
      "Iteration 22, Cost = inf\n",
      "Iteration 23, Cost = inf\n",
      "Iteration 24, Cost = inf\n",
      "Iteration 25, Cost = inf\n",
      "Iteration 26, Cost = inf\n",
      "Iteration 27, Cost = inf\n",
      "Iteration 28, Cost = inf\n",
      "Iteration 29, Cost = inf\n",
      "Iteration 30, Cost = inf\n",
      "Iteration 31, Cost = inf\n",
      "Iteration 32, Cost = inf\n",
      "Iteration 33, Cost = inf\n",
      "Iteration 34, Cost = inf\n",
      "Iteration 35, Cost = inf\n",
      "Iteration 36, Cost = inf\n",
      "Iteration 37, Cost = inf\n",
      "Iteration 38, Cost = inf\n",
      "Iteration 39, Cost = inf\n",
      "Iteration 40, Cost = inf\n",
      "Iteration 41, Cost = inf\n",
      "Iteration 42, Cost = inf\n",
      "Iteration 43, Cost = inf\n",
      "Iteration 44, Cost = inf\n",
      "Iteration 45, Cost = inf\n",
      "Iteration 46, Cost = inf\n",
      "Iteration 47, Cost = inf\n",
      "Iteration 48, Cost = inf\n",
      "Iteration 49, Cost = inf\n",
      "Iteration 50, Cost = inf\n",
      "Iteration 51, Cost = inf\n",
      "Iteration 52, Cost = inf\n",
      "Iteration 53, Cost = inf\n",
      "Iteration 54, Cost = inf\n",
      "Iteration 55, Cost = inf\n",
      "Iteration 56, Cost = inf\n",
      "Iteration 57, Cost = inf\n",
      "Iteration 58, Cost = inf\n",
      "Iteration 59, Cost = inf\n",
      "Iteration 60, Cost = inf\n",
      "Iteration 61, Cost = inf\n",
      "Iteration 62, Cost = inf\n",
      "Iteration 63, Cost = inf\n",
      "Iteration 64, Cost = inf\n",
      "Iteration 65, Cost = inf\n",
      "Iteration 66, Cost = inf\n",
      "Iteration 67, Cost = inf\n",
      "Iteration 68, Cost = inf\n",
      "Iteration 69, Cost = inf\n",
      "Iteration 70, Cost = inf\n",
      "Iteration 71, Cost = inf\n",
      "Iteration 72, Cost = inf\n",
      "Iteration 73, Cost = inf\n",
      "Iteration 74, Cost = inf\n",
      "Iteration 75, Cost = inf\n",
      "Iteration 76, Cost = inf\n",
      "Iteration 77, Cost = inf\n",
      "Iteration 78, Cost = inf\n",
      "Iteration 79, Cost = inf\n",
      "Iteration 80, Cost = inf\n",
      "Iteration 81, Cost = inf\n",
      "Iteration 82, Cost = inf\n",
      "Iteration 83, Cost = inf\n",
      "Iteration 84, Cost = inf\n",
      "Iteration 85, Cost = inf\n",
      "Iteration 86, Cost = inf\n",
      "Iteration 87, Cost = inf\n",
      "Iteration 88, Cost = inf\n",
      "Iteration 89, Cost = inf\n",
      "Iteration 90, Cost = inf\n",
      "Iteration 91, Cost = inf\n",
      "Iteration 92, Cost = inf\n",
      "Iteration 93, Cost = inf\n",
      "Iteration 94, Cost = inf\n",
      "Iteration 95, Cost = inf\n",
      "Iteration 96, Cost = inf\n",
      "Iteration 97, Cost = inf\n",
      "Iteration 98, Cost = inf\n",
      "Iteration 99, Cost = inf\n",
      "Iteration 100, Cost = inf\n",
      "Iteration 101, Cost = inf\n",
      "Iteration 102, Cost = inf\n",
      "Iteration 103, Cost = inf\n",
      "Iteration 104, Cost = inf\n",
      "Iteration 105, Cost = inf\n",
      "Iteration 106, Cost = inf\n",
      "Iteration 107, Cost = inf\n",
      "Iteration 108, Cost = inf\n",
      "Iteration 109, Cost = inf\n",
      "Iteration 110, Cost = inf\n",
      "Iteration 111, Cost = inf\n",
      "Iteration 112, Cost = inf\n",
      "Iteration 113, Cost = inf\n",
      "Iteration 114, Cost = inf\n",
      "Iteration 115, Cost = inf\n",
      "Iteration 116, Cost = inf\n",
      "Iteration 117, Cost = inf\n",
      "Iteration 118, Cost = inf\n",
      "Iteration 119, Cost = inf\n",
      "Iteration 120, Cost = inf\n",
      "Iteration 121, Cost = inf\n",
      "Iteration 122, Cost = inf\n",
      "Iteration 123, Cost = inf\n",
      "Iteration 124, Cost = inf\n",
      "Iteration 125, Cost = inf\n",
      "Iteration 126, Cost = inf\n",
      "Iteration 127, Cost = inf\n",
      "Iteration 128, Cost = inf\n",
      "Iteration 129, Cost = inf\n",
      "Iteration 130, Cost = inf\n",
      "Iteration 131, Cost = inf\n",
      "Iteration 132, Cost = inf\n",
      "Iteration 133, Cost = inf\n",
      "Iteration 134, Cost = inf\n",
      "Iteration 135, Cost = inf\n",
      "Iteration 136, Cost = inf\n",
      "Iteration 137, Cost = inf\n",
      "Iteration 138, Cost = inf\n",
      "Iteration 139, Cost = inf\n",
      "Iteration 140, Cost = inf\n",
      "Iteration 141, Cost = inf\n",
      "Iteration 142, Cost = inf\n",
      "Iteration 143, Cost = inf\n",
      "Iteration 144, Cost = inf\n",
      "Iteration 145, Cost = inf\n",
      "Iteration 146, Cost = inf\n",
      "Iteration 147, Cost = inf\n",
      "Iteration 148, Cost = inf\n",
      "Iteration 149, Cost = inf\n",
      "Iteration 150, Cost = inf\n",
      "Iteration 151, Cost = inf\n",
      "Iteration 152, Cost = inf\n",
      "Iteration 153, Cost = inf\n",
      "Iteration 154, Cost = inf\n",
      "Iteration 155, Cost = inf\n",
      "Iteration 156, Cost = inf\n",
      "Iteration 157, Cost = inf\n",
      "Iteration 158, Cost = inf\n",
      "Iteration 159, Cost = inf\n",
      "Iteration 160, Cost = inf\n",
      "Iteration 161, Cost = inf\n",
      "Iteration 162, Cost = inf\n",
      "Iteration 163, Cost = inf\n",
      "Iteration 164, Cost = inf\n",
      "Iteration 165, Cost = inf\n",
      "Iteration 166, Cost = inf\n",
      "Iteration 167, Cost = inf\n",
      "Iteration 168, Cost = inf\n",
      "Iteration 169, Cost = inf\n",
      "Iteration 170, Cost = inf\n",
      "Iteration 171, Cost = inf\n",
      "Iteration 172, Cost = inf\n",
      "Iteration 173, Cost = inf\n",
      "Iteration 174, Cost = inf\n",
      "Iteration 175, Cost = inf\n",
      "Iteration 176, Cost = inf\n",
      "Iteration 177, Cost = inf\n",
      "Iteration 178, Cost = inf\n",
      "Iteration 179, Cost = inf\n",
      "Iteration 180, Cost = inf\n",
      "Iteration 181, Cost = inf\n",
      "Iteration 182, Cost = inf\n",
      "Iteration 183, Cost = inf\n",
      "Iteration 184, Cost = inf\n",
      "Iteration 185, Cost = inf\n",
      "Iteration 186, Cost = inf\n",
      "Iteration 187, Cost = inf\n",
      "Iteration 188, Cost = inf\n",
      "Iteration 189, Cost = inf\n"
     ]
    },
    {
     "ename": "KeyboardInterrupt",
     "evalue": "",
     "output_type": "error",
     "traceback": [
      "\u001b[0;31m---------------------------------------------------------------------------\u001b[0m",
      "\u001b[0;31mKeyboardInterrupt\u001b[0m                         Traceback (most recent call last)",
      "\u001b[0;32m<ipython-input-259-b8d42ee59e18>\u001b[0m in \u001b[0;36m<module>\u001b[0;34m()\u001b[0m\n\u001b[1;32m      2\u001b[0m \u001b[0mch\u001b[0m\u001b[1;33m=\u001b[0m\u001b[0minput\u001b[0m\u001b[1;33m(\u001b[0m\u001b[1;33m)\u001b[0m\u001b[1;33m\u001b[0m\u001b[0m\n\u001b[1;32m      3\u001b[0m \u001b[1;32mif\u001b[0m \u001b[0mch\u001b[0m\u001b[1;33m==\u001b[0m\u001b[1;34m'y'\u001b[0m\u001b[1;33m:\u001b[0m\u001b[1;33m\u001b[0m\u001b[0m\n\u001b[0;32m----> 4\u001b[0;31m     \u001b[0mtrain_model\u001b[0m\u001b[1;33m(\u001b[0m\u001b[0mtheta\u001b[0m\u001b[1;33m,\u001b[0m\u001b[0mhlog\u001b[0m\u001b[1;33m,\u001b[0m \u001b[0mlabelY\u001b[0m\u001b[1;33m)\u001b[0m\u001b[1;33m\u001b[0m\u001b[0m\n\u001b[0m",
      "\u001b[0;32m<ipython-input-258-9d76a6ed355c>\u001b[0m in \u001b[0;36mtrain_model\u001b[0;34m(theta, hlog, labelY)\u001b[0m\n\u001b[1;32m      2\u001b[0m     \u001b[0mcount\u001b[0m\u001b[1;33m=\u001b[0m\u001b[1;36m0\u001b[0m\u001b[1;33m\u001b[0m\u001b[0m\n\u001b[1;32m      3\u001b[0m     \u001b[1;32mwhile\u001b[0m\u001b[1;33m(\u001b[0m\u001b[0mcount\u001b[0m\u001b[1;33m<\u001b[0m\u001b[1;36m1000\u001b[0m\u001b[1;33m)\u001b[0m\u001b[1;33m:\u001b[0m\u001b[1;33m\u001b[0m\u001b[0m\n\u001b[0;32m----> 4\u001b[0;31m         \u001b[0mprint\u001b[0m\u001b[1;33m(\u001b[0m \u001b[1;34m\"Iteration {}, Cost = {}\"\u001b[0m\u001b[1;33m.\u001b[0m\u001b[0mformat\u001b[0m\u001b[1;33m(\u001b[0m\u001b[0mcount\u001b[0m \u001b[1;33m,\u001b[0m\u001b[0mJ_\u001b[0m\u001b[1;33m(\u001b[0m\u001b[0mtheta\u001b[0m\u001b[1;33m,\u001b[0m\u001b[0mhlog\u001b[0m\u001b[1;33m,\u001b[0m \u001b[0mlabelY\u001b[0m\u001b[1;33m)\u001b[0m\u001b[1;33m)\u001b[0m \u001b[1;33m)\u001b[0m\u001b[1;33m\u001b[0m\u001b[0m\n\u001b[0m\u001b[1;32m      5\u001b[0m         \u001b[0mgrad_desc\u001b[0m\u001b[1;33m(\u001b[0m\u001b[0mtheta\u001b[0m\u001b[1;33m,\u001b[0m\u001b[0mhlog\u001b[0m\u001b[1;33m,\u001b[0m \u001b[0mlabelY\u001b[0m\u001b[1;33m)\u001b[0m\u001b[1;33m\u001b[0m\u001b[0m\n\u001b[1;32m      6\u001b[0m         \u001b[0mcount\u001b[0m\u001b[1;33m+=\u001b[0m\u001b[1;36m1\u001b[0m\u001b[1;33m\u001b[0m\u001b[0m\n",
      "\u001b[0;32m<ipython-input-255-505db33f6538>\u001b[0m in \u001b[0;36mJ_\u001b[0;34m(theta, hlog, labelY)\u001b[0m\n\u001b[1;32m      2\u001b[0m     \u001b[0mJ\u001b[0m\u001b[1;33m=\u001b[0m\u001b[1;36m0\u001b[0m\u001b[1;33m\u001b[0m\u001b[0m\n\u001b[1;32m      3\u001b[0m     \u001b[1;32mfor\u001b[0m \u001b[0mi\u001b[0m \u001b[1;32min\u001b[0m \u001b[0mrange\u001b[0m\u001b[1;33m(\u001b[0m\u001b[1;36m0\u001b[0m\u001b[1;33m,\u001b[0m\u001b[0mm\u001b[0m\u001b[1;33m)\u001b[0m\u001b[1;33m:\u001b[0m\u001b[1;33m\u001b[0m\u001b[0m\n\u001b[0;32m----> 4\u001b[0;31m         \u001b[0mJ\u001b[0m\u001b[1;33m=\u001b[0m\u001b[0mJ\u001b[0m\u001b[1;33m+\u001b[0m\u001b[1;33m(\u001b[0m\u001b[0mcost\u001b[0m\u001b[1;33m(\u001b[0m\u001b[0mhlog\u001b[0m\u001b[1;33m[\u001b[0m\u001b[0mi\u001b[0m\u001b[1;33m]\u001b[0m\u001b[1;33m,\u001b[0m \u001b[0mlabelY\u001b[0m\u001b[1;33m[\u001b[0m\u001b[0mi\u001b[0m\u001b[1;33m]\u001b[0m\u001b[1;33m)\u001b[0m\u001b[1;33m)\u001b[0m\u001b[1;33m/\u001b[0m\u001b[0mm\u001b[0m\u001b[1;33m\u001b[0m\u001b[0m\n\u001b[0m\u001b[1;32m      5\u001b[0m \u001b[1;33m\u001b[0m\u001b[0m\n\u001b[1;32m      6\u001b[0m     \u001b[0mtemp\u001b[0m\u001b[1;33m=\u001b[0m\u001b[1;36m0\u001b[0m\u001b[1;33m\u001b[0m\u001b[0m\n",
      "\u001b[0;31mKeyboardInterrupt\u001b[0m: "
     ]
    }
   ],
   "source": [
    "print(\"Press y to train:\")\n",
    "ch=input()\n",
    "if ch=='y':\n",
    "    train_model(theta,hlog, labelY)"
   ]
  },
  {
   "cell_type": "code",
   "execution_count": null,
   "metadata": {
    "collapsed": false
   },
   "outputs": [],
   "source": [
    "print(theta);"
   ]
  },
  {
   "cell_type": "code",
   "execution_count": null,
   "metadata": {
    "collapsed": true
   },
   "outputs": [],
   "source": []
  }
 ],
 "metadata": {
  "kernelspec": {
   "display_name": "Python 3",
   "language": "python",
   "name": "python3"
  },
  "language_info": {
   "codemirror_mode": {
    "name": "ipython",
    "version": 3
   },
   "file_extension": ".py",
   "mimetype": "text/x-python",
   "name": "python",
   "nbconvert_exporter": "python",
   "pygments_lexer": "ipython3",
   "version": "3.6.0"
  }
 },
 "nbformat": 4,
 "nbformat_minor": 2
}
